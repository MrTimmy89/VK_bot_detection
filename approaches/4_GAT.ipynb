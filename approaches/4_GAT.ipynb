{
 "cells": [
  {
   "cell_type": "markdown",
   "id": "01138f44",
   "metadata": {},
   "source": [
    "## Imports"
   ]
  },
  {
   "cell_type": "code",
   "execution_count": 1,
   "id": "adc0e24b",
   "metadata": {},
   "outputs": [
    {
     "name": "stderr",
     "output_type": "stream",
     "text": [
      "2022-08-10 18:31:00.749131: W tensorflow/stream_executor/platform/default/dso_loader.cc:64] Could not load dynamic library 'libcudart.so.11.0'; dlerror: libcudart.so.11.0: cannot open shared object file: No such file or directory\n",
      "2022-08-10 18:31:00.749166: I tensorflow/stream_executor/cuda/cudart_stub.cc:29] Ignore above cudart dlerror if you do not have a GPU set up on your machine.\n",
      "Using backend: pytorch\n",
      "2022-08-10 18:31:03.170471: E tensorflow/stream_executor/cuda/cuda_driver.cc:271] failed call to cuInit: CUDA_ERROR_NO_DEVICE: no CUDA-capable device is detected\n",
      "2022-08-10 18:31:03.170531: I tensorflow/stream_executor/cuda/cuda_diagnostics.cc:156] kernel driver does not appear to be running on this host (artem-VLT-WX0): /proc/driver/nvidia/version does not exist\n",
      "2022-08-10 18:31:03.172021: I tensorflow/core/platform/cpu_feature_guard.cc:142] This TensorFlow binary is optimized with oneAPI Deep Neural Network Library (oneDNN) to use the following CPU instructions in performance-critical operations:  AVX2 FMA\n",
      "To enable them in other operations, rebuild TensorFlow with the appropriate compiler flags.\n"
     ]
    }
   ],
   "source": [
    "import glob\n",
    "import os\n",
    "import pprint\n",
    "\n",
    "import numpy as np\n",
    "import pandas as pd\n",
    "\n",
    "from sklearn.manifold import TSNE\n",
    "from sklearn.ensemble import RandomForestClassifier\n",
    "from sklearn.metrics import roc_auc_score, f1_score, precision_score, recall_score, accuracy_score\n",
    "from sklearn.model_selection import train_test_split\n",
    "\n",
    "from tensorflow import keras\n",
    "from tensorflow.keras import losses, optimizers, Model\n",
    "from tensorflow.keras.callbacks import EarlyStopping, ModelCheckpoint\n",
    "import torch\n",
    "\n",
    "import dgl\n",
    "import networkx as nx\n",
    "\n",
    "from stellargraph import StellarGraph\n",
    "from stellargraph.mapper import GraphSAGELinkGenerator, GraphSAGENodeGenerator\n",
    "from stellargraph.layer import GraphSAGE, link_classification\n",
    "from stellargraph.data import EdgeSplitter, UnsupervisedSampler\n",
    "import stellargraph as sg\n",
    "from stellargraph.mapper import FullBatchNodeGenerator\n",
    "from stellargraph.layer import GAT\n",
    "\n",
    "from sklearn import preprocessing, feature_extraction, model_selection\n",
    "from IPython.display import display, HTML\n",
    "import matplotlib.pyplot as plt\n",
    "%matplotlib inline"
   ]
  },
  {
   "cell_type": "code",
   "execution_count": 2,
   "id": "59a568bd",
   "metadata": {},
   "outputs": [],
   "source": [
    "DATA_DIR = \"data\"\n",
    "INTERIM_DIR = \"interim\"\n",
    "MODEL = \"models\""
   ]
  },
  {
   "cell_type": "code",
   "execution_count": 3,
   "id": "30025be4",
   "metadata": {},
   "outputs": [],
   "source": [
    "pp = pprint.PrettyPrinter(indent=4)"
   ]
  },
  {
   "cell_type": "markdown",
   "id": "6fc07d51",
   "metadata": {},
   "source": [
    "## GAT"
   ]
  },
  {
   "cell_type": "markdown",
   "id": "fe78d917",
   "metadata": {},
   "source": [
    "GAT, which stands for Graph Attention is a concept, presented in <a href=\"https://arxiv.org/abs/1710.10903\">a work</a>."
   ]
  },
  {
   "cell_type": "markdown",
   "id": "9dcf1f6f",
   "metadata": {},
   "source": [
    "#### Graph preparation"
   ]
  },
  {
   "cell_type": "markdown",
   "id": "bdcc9171",
   "metadata": {},
   "source": [
    "Because we use stellargraph to implement this approach, we would convert the graph we used for GNN in previous approch to another representation."
   ]
  },
  {
   "cell_type": "code",
   "execution_count": 18,
   "id": "18f05308",
   "metadata": {},
   "outputs": [],
   "source": [
    "files = os.path.join(\"..\", DATA_DIR, INTERIM_DIR, \"node_dfs_2hops\", \"*.csv\")\n",
    "file_names = glob.glob(files)\n",
    "gs = []\n",
    "train_test = []\n",
    "labels = []\n",
    "G_ = nx.Graph()\n",
    "d = dict()\n",
    "\n",
    "for x, file in enumerate(file_names):\n",
    "    df = pd.read_csv(file, index_col=\"Unnamed: 0\").drop_duplicates().astype(int)\n",
    "    l = file[-5]\n",
    "    labels.append(int(l))\n",
    "    np_df = np.array(df)\n",
    "    e = np_df[:]\n",
    "    s = np_df[np_df[:, -2], 0]\n",
    "    edges = []\n",
    "    for s1, e1 in zip(s.tolist(), e.tolist()):\n",
    "        edges.append((s1, e1[0]))\n",
    "        G_.add_node(\n",
    "            e1[0],\n",
    "            attr=e1[:4],\n",
    "            label=\"node\",\n",
    "        )\n",
    "        if e1[0] == np_df[0, 0]:\n",
    "            d[e1[0]] = int(l)\n",
    "    \n",
    "    G_.add_edges_from(edges)\n",
    "node_subjects = pd.DataFrame(d.values(), index=d.keys(), columns=[\"mark\"]).mark"
   ]
  },
  {
   "cell_type": "code",
   "execution_count": 19,
   "id": "b4609f7d",
   "metadata": {},
   "outputs": [
    {
     "name": "stdout",
     "output_type": "stream",
     "text": [
      "StellarGraph: Undirected multigraph\n",
      " Nodes: 17555, Edges: 17814\n",
      "\n",
      " Node types:\n",
      "  node: [17555]\n",
      "    Features: float32 vector, length 4\n",
      "    Edge types: node-default->node\n",
      "\n",
      " Edge types:\n",
      "    node-default->node: [17814]\n",
      "        Weights: all 1 (default)\n",
      "        Features: none\n"
     ]
    }
   ],
   "source": [
    "G = StellarGraph.from_networkx(G_, node_features=\"attr\")\n",
    "# nodes = list(G.nodes())\n",
    "print(G.info())"
   ]
  },
  {
   "cell_type": "markdown",
   "id": "4fef7049",
   "metadata": {},
   "source": [
    "We reset our labels to form node_subjects to expand the graph we work with. Those nodes, which labels we do not exactly, we mark with \"2\"."
   ]
  },
  {
   "cell_type": "code",
   "execution_count": 20,
   "id": "1ef55f77",
   "metadata": {},
   "outputs": [],
   "source": [
    "nodes = []\n",
    "labels = []\n",
    "p = 0.01\n",
    "\n",
    "for node in G.nodes():\n",
    "    if node not in node_subjects.index:\n",
    "        chance = np.random.random(1)\n",
    "        if chance < p:\n",
    "            nodes.append(node)\n",
    "            labels.append(2)\n",
    "    else:\n",
    "        nodes.append(node)\n",
    "        labels.append(node_subjects[node])\n",
    "node_subjects = pd.DataFrame(labels, index=nodes, columns=[\"mark\"]).mark"
   ]
  },
  {
   "cell_type": "code",
   "execution_count": 21,
   "id": "49665fb3",
   "metadata": {},
   "outputs": [
    {
     "name": "stdout",
     "output_type": "stream",
     "text": [
      "StellarGraph: Undirected multigraph\n",
      " Nodes: 451, Edges: 319\n",
      "\n",
      " Node types:\n",
      "  node: [451]\n",
      "    Features: float32 vector, length 4\n",
      "    Edge types: node-default->node\n",
      "\n",
      " Edge types:\n",
      "    node-default->node: [319]\n",
      "        Weights: all 1 (default)\n",
      "        Features: none\n"
     ]
    }
   ],
   "source": [
    "G = StellarGraph.from_networkx(G_.subgraph(node_subjects.index), node_features=\"attr\")\n",
    "nodes = list(G.nodes())\n",
    "print(G.info())"
   ]
  },
  {
   "cell_type": "markdown",
   "id": "4f2a9dee",
   "metadata": {},
   "source": [
    "#### Set hyperparameters:"
   ]
  },
  {
   "cell_type": "code",
   "execution_count": 22,
   "id": "d2f53493",
   "metadata": {},
   "outputs": [],
   "source": [
    "epochs = 50\n",
    "lr = 1e-3\n",
    "loss = losses.categorical_crossentropy\n",
    "optimizer=optimizers.Adam(learning_rate=lr)\n",
    "patience = 20  # The number of epochs to wait before early-stop by model training"
   ]
  },
  {
   "cell_type": "markdown",
   "id": "eb06464e",
   "metadata": {},
   "source": [
    "#### Prepare data for GraphSAGE model."
   ]
  },
  {
   "cell_type": "markdown",
   "id": "9d170b7d",
   "metadata": {},
   "source": [
    "We split the index for train, validation and test datasets"
   ]
  },
  {
   "cell_type": "code",
   "execution_count": 23,
   "id": "00dbd29a",
   "metadata": {},
   "outputs": [],
   "source": [
    "train_subjects, val_subjects = model_selection.train_test_split(\n",
    "    node_subjects,\n",
    "    train_size=0.7,\n",
    "    test_size=None,\n",
    "    stratify=node_subjects\n",
    ")\n",
    "val_subjects, test_subjects = model_selection.train_test_split(\n",
    "    val_subjects,\n",
    "    train_size=0.9,\n",
    "    test_size=None,\n",
    "    stratify=val_subjects\n",
    ")"
   ]
  },
  {
   "cell_type": "markdown",
   "id": "68e9d86b",
   "metadata": {},
   "source": [
    "We binarize the labels with standard sklearn tools."
   ]
  },
  {
   "cell_type": "code",
   "execution_count": 24,
   "id": "17b7a0ec",
   "metadata": {},
   "outputs": [],
   "source": [
    "target_encoding = preprocessing.LabelBinarizer()\n",
    "\n",
    "train_targets = target_encoding.fit_transform(train_subjects)\n",
    "val_targets = target_encoding.transform(val_subjects)\n",
    "test_targets = target_encoding.transform(test_subjects)"
   ]
  },
  {
   "cell_type": "markdown",
   "id": "e14c78ab",
   "metadata": {},
   "source": [
    "We generate the sequences for our model"
   ]
  },
  {
   "cell_type": "code",
   "execution_count": 46,
   "id": "f8bdda25",
   "metadata": {},
   "outputs": [],
   "source": [
    "generator = FullBatchNodeGenerator(G, method=\"gat\")\n",
    "\n",
    "train_gen = generator.flow(train_subjects.index, train_targets)\n",
    "val_gen = generator.flow(val_subjects.index, val_targets)\n",
    "test_gen = generator.flow(test_subjects.index, test_targets)"
   ]
  },
  {
   "cell_type": "code",
   "execution_count": 47,
   "id": "897e64d9",
   "metadata": {},
   "outputs": [
    {
     "data": {
      "text/plain": [
       "1    151\n",
       "2    117\n",
       "0     47\n",
       "Name: mark, dtype: int64"
      ]
     },
     "execution_count": 47,
     "metadata": {},
     "output_type": "execute_result"
    }
   ],
   "source": [
    "train_subjects.value_counts()"
   ]
  },
  {
   "cell_type": "markdown",
   "id": "2689a1da",
   "metadata": {},
   "source": [
    "#### Define the GraphSAGE model itself."
   ]
  },
  {
   "cell_type": "markdown",
   "id": "68034634",
   "metadata": {},
   "source": [
    "We make a three-layer GAT model."
   ]
  },
  {
   "cell_type": "code",
   "execution_count": 73,
   "id": "e96c1605",
   "metadata": {},
   "outputs": [],
   "source": [
    "gat = GAT(\n",
    "    layer_sizes=[4, 16, train_targets.shape[1]],\n",
    "    activations=[\"selu\", \"selu\", \"softmax\"],\n",
    "    attn_heads=4,\n",
    "    generator=generator,\n",
    "    # in_dropout=0.1,\n",
    "    # attn_dropout=0.1,\n",
    "    normalize=\"none\",\n",
    ")\n",
    "\n",
    "x_inp, predictions = gat.in_out_tensors()"
   ]
  },
  {
   "cell_type": "code",
   "execution_count": 74,
   "id": "8bbbdbed",
   "metadata": {},
   "outputs": [],
   "source": [
    "model = Model(inputs=x_inp, outputs=predictions)\n",
    "model.compile(\n",
    "    optimizer=optimizer,\n",
    "    loss=loss,\n",
    "    metrics=[\"acc\"],\n",
    ")"
   ]
  },
  {
   "cell_type": "markdown",
   "id": "e2bf160a",
   "metadata": {},
   "source": [
    "#### Train the model"
   ]
  },
  {
   "cell_type": "markdown",
   "id": "20dc5807",
   "metadata": {},
   "source": [
    "Prepare logling for early-stop"
   ]
  },
  {
   "cell_type": "code",
   "execution_count": 75,
   "id": "1ec11442",
   "metadata": {},
   "outputs": [],
   "source": [
    "if not os.path.isdir(\"logs\"):\n",
    "    os.makedirs(\"logs\")\n",
    "es_callback = EarlyStopping(\n",
    "    monitor=\"val_acc\",\n",
    "    patience=patience\n",
    ")\n",
    "mc_callback = ModelCheckpoint(\n",
    "    \"logs/best_model.h5\",\n",
    "    monitor=\"val_acc\",\n",
    "    save_best_only=True,\n",
    "    save_weights_only=True\n",
    ")"
   ]
  },
  {
   "cell_type": "code",
   "execution_count": 76,
   "id": "16ccad0a",
   "metadata": {},
   "outputs": [
    {
     "name": "stdout",
     "output_type": "stream",
     "text": [
      "Epoch 1/50\n",
      "1/1 - 2s - loss: 8.3916 - acc: 0.4794 - val_loss: 8.3233 - val_acc: 0.4836\n",
      "Epoch 2/50\n",
      "1/1 - 0s - loss: 8.3916 - acc: 0.4794 - val_loss: 8.3233 - val_acc: 0.4836\n",
      "Epoch 3/50\n",
      "1/1 - 0s - loss: 8.3916 - acc: 0.4794 - val_loss: 8.3233 - val_acc: 0.4836\n",
      "Epoch 4/50\n",
      "1/1 - 0s - loss: 8.3916 - acc: 0.4794 - val_loss: 8.3233 - val_acc: 0.4836\n",
      "Epoch 5/50\n",
      "1/1 - 0s - loss: 8.3916 - acc: 0.4794 - val_loss: 8.3233 - val_acc: 0.4836\n",
      "Epoch 6/50\n",
      "1/1 - 0s - loss: 8.3916 - acc: 0.4794 - val_loss: 8.3233 - val_acc: 0.4836\n",
      "Epoch 7/50\n",
      "1/1 - 0s - loss: 8.3916 - acc: 0.4794 - val_loss: 8.3233 - val_acc: 0.4836\n",
      "Epoch 8/50\n",
      "1/1 - 0s - loss: 8.3916 - acc: 0.4794 - val_loss: 8.3233 - val_acc: 0.4836\n",
      "Epoch 9/50\n",
      "1/1 - 0s - loss: 8.3916 - acc: 0.4794 - val_loss: 8.3233 - val_acc: 0.4836\n",
      "Epoch 10/50\n",
      "1/1 - 0s - loss: 8.3916 - acc: 0.4794 - val_loss: 8.3233 - val_acc: 0.4836\n",
      "Epoch 11/50\n",
      "1/1 - 0s - loss: 8.3916 - acc: 0.4794 - val_loss: 8.3233 - val_acc: 0.4836\n",
      "Epoch 12/50\n",
      "1/1 - 0s - loss: 8.3916 - acc: 0.4794 - val_loss: 8.3233 - val_acc: 0.4836\n",
      "Epoch 13/50\n",
      "1/1 - 0s - loss: 8.3916 - acc: 0.4794 - val_loss: 8.3233 - val_acc: 0.4836\n",
      "Epoch 14/50\n",
      "1/1 - 0s - loss: 8.3916 - acc: 0.4794 - val_loss: 8.3233 - val_acc: 0.4836\n",
      "Epoch 15/50\n",
      "1/1 - 0s - loss: 8.3916 - acc: 0.4794 - val_loss: 8.3233 - val_acc: 0.4836\n",
      "Epoch 16/50\n",
      "1/1 - 0s - loss: 8.3916 - acc: 0.4794 - val_loss: 8.3233 - val_acc: 0.4836\n",
      "Epoch 17/50\n",
      "1/1 - 0s - loss: 8.3916 - acc: 0.4794 - val_loss: 8.3233 - val_acc: 0.4836\n",
      "Epoch 18/50\n",
      "1/1 - 0s - loss: 8.3916 - acc: 0.4794 - val_loss: 8.3233 - val_acc: 0.4836\n",
      "Epoch 19/50\n",
      "1/1 - 0s - loss: 8.3916 - acc: 0.4794 - val_loss: 8.3233 - val_acc: 0.4836\n",
      "Epoch 20/50\n",
      "1/1 - 0s - loss: 8.3916 - acc: 0.4794 - val_loss: 8.3233 - val_acc: 0.4836\n",
      "Epoch 21/50\n",
      "1/1 - 0s - loss: 8.3916 - acc: 0.4794 - val_loss: 8.3233 - val_acc: 0.4836\n"
     ]
    }
   ],
   "source": [
    "history = model.fit(\n",
    "    train_gen,\n",
    "    epochs=epochs,\n",
    "    validation_data=val_gen,\n",
    "    verbose=2,\n",
    "    shuffle=False,  # this should be False, since shuffling data means shuffling the whole graph\n",
    "    callbacks=[es_callback, mc_callback],\n",
    ")"
   ]
  },
  {
   "cell_type": "code",
   "execution_count": 77,
   "id": "5ff482d1",
   "metadata": {},
   "outputs": [
    {
     "data": {
      "image/png": "[encoded data removed]",
      "text/plain": [
       "<Figure size 504x576 with 2 Axes>"
      ]
     },
     "metadata": {
      "needs_background": "light"
     },
     "output_type": "display_data"
    }
   ],
   "source": [
    "sg.utils.plot_history(history)"
   ]
  },
  {
   "cell_type": "markdown",
   "id": "25ee9590",
   "metadata": {},
   "source": [
    "#### Evaluate model performance"
   ]
  },
  {
   "cell_type": "code",
   "execution_count": 78,
   "id": "8df8714b",
   "metadata": {},
   "outputs": [],
   "source": [
    "model.load_weights(\"logs/best_model.h5\")"
   ]
  },
  {
   "cell_type": "code",
   "execution_count": 79,
   "id": "64e2bbf3",
   "metadata": {},
   "outputs": [
    {
     "name": "stdout",
     "output_type": "stream",
     "text": [
      "1/1 [==============================] - 0s 45ms/step - loss: 8.0590 - acc: 0.5000\n",
      "\n",
      "Test Set Metrics:\n",
      "\tloss: 8.0590\n",
      "\tacc: 0.5000\n"
     ]
    }
   ],
   "source": [
    "test_metrics = model.evaluate(test_gen)\n",
    "print(\"\\nTest Set Metrics:\")\n",
    "for name, val in zip(model.metrics_names, test_metrics):\n",
    "    print(\"\\t{}: {:0.4f}\".format(name, val))"
   ]
  },
  {
   "cell_type": "code",
   "execution_count": 80,
   "id": "99ed506f",
   "metadata": {},
   "outputs": [],
   "source": [
    "all_nodes = node_subjects.index\n",
    "all_gen = generator.flow(all_nodes)\n",
    "all_predictions = model.predict(all_gen)"
   ]
  },
  {
   "cell_type": "code",
   "execution_count": 81,
   "id": "500b0fec",
   "metadata": {},
   "outputs": [
    {
     "data": {
      "text/plain": [
       "(451,)"
      ]
     },
     "execution_count": 81,
     "metadata": {},
     "output_type": "execute_result"
    }
   ],
   "source": [
    "node_predictions = target_encoding.inverse_transform(all_predictions.squeeze())\n",
    "node_predictions.shape"
   ]
  },
  {
   "cell_type": "code",
   "execution_count": 82,
   "id": "32819c6f",
   "metadata": {},
   "outputs": [
    {
     "data": {
      "text/plain": [
       "1    216\n",
       "0      1\n",
       "Name: True, dtype: int64"
      ]
     },
     "execution_count": 82,
     "metadata": {},
     "output_type": "execute_result"
    }
   ],
   "source": [
    "df = pd.DataFrame({\"Predicted\": node_predictions, \"True\": node_subjects})\n",
    "df[df[\"Predicted\"] == df[\"True\"]][\"True\"].value_counts()"
   ]
  },
  {
   "cell_type": "markdown",
   "id": "f0038258",
   "metadata": {},
   "source": [
    "#### Visualiztion"
   ]
  },
  {
   "cell_type": "code",
   "execution_count": 83,
   "id": "f87978a4",
   "metadata": {},
   "outputs": [
    {
     "name": "stdout",
     "output_type": "stream",
     "text": [
      "Embedding layer: graph_attention_sparse_33, output shape (1, 451, 16)\n"
     ]
    }
   ],
   "source": [
    "emb_layer = next(l for l in model.layers if l.name.startswith(\"graph_attention\"))\n",
    "print(\n",
    "    \"Embedding layer: {}, output shape {}\".format(emb_layer.name, emb_layer.output_shape)\n",
    ")"
   ]
  },
  {
   "cell_type": "code",
   "execution_count": 84,
   "id": "893b15b8",
   "metadata": {},
   "outputs": [
    {
     "data": {
      "text/plain": [
       "(1, 451, 16)"
      ]
     },
     "execution_count": 84,
     "metadata": {},
     "output_type": "execute_result"
    }
   ],
   "source": [
    "embedding_model = Model(inputs=x_inp, outputs=emb_layer.output)\n",
    "emb = embedding_model.predict(all_gen)\n",
    "emb.shape"
   ]
  },
  {
   "cell_type": "code",
   "execution_count": 85,
   "id": "e80040d9",
   "metadata": {},
   "outputs": [],
   "source": [
    "X = emb.squeeze()\n",
    "y = np.argmax(target_encoding.transform(node_subjects), axis=1)"
   ]
  },
  {
   "cell_type": "code",
   "execution_count": 86,
   "id": "007f5119",
   "metadata": {},
   "outputs": [],
   "source": [
    "if X.shape[1] > 2:\n",
    "    transform = TSNE  # PCA\n",
    "    \n",
    "    trans = transform(n_components=2)\n",
    "    emb_transformed = pd.DataFrame(trans.fit_transform(X), index=list(G.nodes()))\n",
    "    emb_transformed[\"label\"] = y\n",
    "else:\n",
    "    emb_transformed = pd.DataFrame(X, index=list(G.nodes()))\n",
    "    emb_transformed = emb_transformed.rename(columns={\"0\": 0, \"1\": 1})\n",
    "    emb_transformed[\"label\"] = y"
   ]
  },
  {
   "cell_type": "code",
   "execution_count": 87,
   "id": "a96de3f5",
   "metadata": {},
   "outputs": [
    {
     "data": {
      "image/png": "[encoded data removed]",
      "text/plain": [
       "<Figure size 504x504 with 1 Axes>"
      ]
     },
     "metadata": {
      "needs_background": "light"
     },
     "output_type": "display_data"
    }
   ],
   "source": [
    "alpha = 0.7\n",
    "\n",
    "fig, ax = plt.subplots(figsize=(7, 7))\n",
    "ax.scatter(\n",
    "    emb_transformed[0],\n",
    "    emb_transformed[1],\n",
    "    c=emb_transformed[\"label\"].astype(\"category\"),\n",
    "    cmap=\"jet\",\n",
    "    alpha=alpha,\n",
    ")\n",
    "ax.set(aspect=\"equal\", xlabel=\"$X_1$\", ylabel=\"$X_2$\")\n",
    "plt.title(\n",
    "    \"{} visualization of GAT embeddings for cora dataset\".format(transform.__name__)\n",
    ")\n",
    "plt.show()"
   ]
  },
  {
   "cell_type": "markdown",
   "id": "a43a55b1",
   "metadata": {},
   "source": [
    "This attempt is quite unsuccessful, maybe, due to the structure of graph, we have created (large number of connected components)"
   ]
  },
  {
   "cell_type": "code",
   "execution_count": null,
   "id": "8e6f98ef",
   "metadata": {},
   "outputs": [],
   "source": []
  }
 ],
 "metadata": {
  "kernelspec": {
   "display_name": "Python 3 (ipykernel)",
   "language": "python",
   "name": "python3"
  },
  "language_info": {
   "codemirror_mode": {
    "name": "ipython",
    "version": 3
   },
   "file_extension": ".py",
   "mimetype": "text/x-python",
   "name": "python",
   "nbconvert_exporter": "python",
   "pygments_lexer": "ipython3",
   "version": "3.8.10"
  }
 },
 "nbformat": 4,
 "nbformat_minor": 5
}
