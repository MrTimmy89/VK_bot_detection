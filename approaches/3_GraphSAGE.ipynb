{
 "cells": [
  {
   "cell_type": "markdown",
   "id": "ea9efc64",
   "metadata": {},
   "source": [
    "## Imports"
   ]
  },
  {
   "cell_type": "code",
   "execution_count": 1,
   "id": "72d5f901",
   "metadata": {},
   "outputs": [
    {
     "name": "stderr",
     "output_type": "stream",
     "text": [
      "2022-08-06 00:16:03.213985: W tensorflow/stream_executor/platform/default/dso_loader.cc:64] Could not load dynamic library 'libcudart.so.11.0'; dlerror: libcudart.so.11.0: cannot open shared object file: No such file or directory\n",
      "2022-08-06 00:16:03.214019: I tensorflow/stream_executor/cuda/cudart_stub.cc:29] Ignore above cudart dlerror if you do not have a GPU set up on your machine.\n",
      "Using backend: pytorch\n",
      "2022-08-06 00:16:05.729373: E tensorflow/stream_executor/cuda/cuda_driver.cc:271] failed call to cuInit: CUDA_ERROR_NO_DEVICE: no CUDA-capable device is detected\n",
      "2022-08-06 00:16:05.729433: I tensorflow/stream_executor/cuda/cuda_diagnostics.cc:156] kernel driver does not appear to be running on this host (artem-VLT-WX0): /proc/driver/nvidia/version does not exist\n",
      "2022-08-06 00:16:05.730076: I tensorflow/core/platform/cpu_feature_guard.cc:142] This TensorFlow binary is optimized with oneAPI Deep Neural Network Library (oneDNN) to use the following CPU instructions in performance-critical operations:  AVX2 FMA\n",
      "To enable them in other operations, rebuild TensorFlow with the appropriate compiler flags.\n"
     ]
    }
   ],
   "source": [
    "import glob\n",
    "import os\n",
    "import pprint\n",
    "\n",
    "import matplotlib.pyplot as plt\n",
    "import numpy as np\n",
    "import pandas as pd\n",
    "\n",
    "from sklearn.manifold import TSNE\n",
    "from sklearn.ensemble import RandomForestClassifier\n",
    "from sklearn.metrics import roc_auc_score, f1_score, precision_score, recall_score, accuracy_score\n",
    "from sklearn.model_selection import train_test_split\n",
    "\n",
    "from tensorflow import keras\n",
    "import torch\n",
    "\n",
    "import dgl\n",
    "import networkx as nx\n",
    "from stellargraph import StellarGraph\n",
    "from stellargraph.mapper import GraphSAGELinkGenerator, GraphSAGENodeGenerator\n",
    "from stellargraph.layer import GraphSAGE, link_classification\n",
    "from stellargraph.data import EdgeSplitter, UnsupervisedSampler\n",
    "\n",
    "%matplotlib inline"
   ]
  },
  {
   "cell_type": "code",
   "execution_count": 2,
   "id": "1a64446a",
   "metadata": {},
   "outputs": [],
   "source": [
    "DATA_DIR = \"data\"\n",
    "INTERIM_DIR = \"interim\"\n",
    "MODELS = \"models\"\n",
    "pp = pprint.PrettyPrinter(indent=4)"
   ]
  },
  {
   "cell_type": "markdown",
   "id": "3e730611",
   "metadata": {},
   "source": [
    "## GraphSAGE"
   ]
  },
  {
   "cell_type": "markdown",
   "id": "54b41c2d",
   "metadata": {},
   "source": [
    "The approach is similar to the previously used, we use unsupervised GraphSAGE model from the <a href=\"https://arxiv.org/abs/1706.02216\">article</a> to get the representations of graph nodes and then use those embeddings to try to predict the node class."
   ]
  },
  {
   "cell_type": "markdown",
   "id": "cc8e264b",
   "metadata": {},
   "source": [
    "#### Graph preparation"
   ]
  },
  {
   "cell_type": "markdown",
   "id": "e5c4f918",
   "metadata": {},
   "source": [
    "Because to implement this approach we use stellargraph library we would convert the graph we used for GNN in previous approch to another representation."
   ]
  },
  {
   "cell_type": "code",
   "execution_count": 3,
   "id": "5623dd21",
   "metadata": {},
   "outputs": [],
   "source": [
    "files = os.path.join(\"..\", DATA_DIR, INTERIM_DIR, \"node_dfs_2hops\", \"*.csv\")\n",
    "file_names = glob.glob(files)\n",
    "gs = []\n",
    "train_test = []\n",
    "labels = []\n",
    "G_ = nx.Graph()\n",
    "d = dict()\n",
    "\n",
    "for x, file in enumerate(file_names):\n",
    "    df = pd.read_csv(file, index_col=\"Unnamed: 0\").drop_duplicates().astype(int)\n",
    "    l = file[-5]\n",
    "    labels.append(int(l))\n",
    "    np_df = np.array(df)\n",
    "    e = np_df[:]\n",
    "    s = np_df[np_df[:, -2], 0]\n",
    "    edges = []\n",
    "    for s1, e1 in zip(s.tolist(), e.tolist()):\n",
    "        edges.append((s1, e1[0]))\n",
    "        G_.add_node(\n",
    "            e1[0],\n",
    "            attr=e1[:4],\n",
    "            label=\"account\",\n",
    "        )\n",
    "        if e1[0] == np_df[0, 0]:\n",
    "            d[e1[0]] = int(l)\n",
    "    \n",
    "    G_.add_edges_from(edges)\n",
    "    edges = np_df[:, -2:]\n",
    "    us = edges[:, -2]\n",
    "    vs = edges[:, -1]\n",
    "    data = np.array(df)[:, :-2]\n",
    "    g = dgl.graph((torch.tensor(us.tolist()), torch.tensor(vs.tolist())))\n",
    "    g.ndata[\"attr\"] = torch.tensor(data)\n",
    "    gs.append(g)\n",
    "node_subjects = pd.DataFrame(d.values(), index=d.keys(), columns=[\"mark\"]).mark"
   ]
  },
  {
   "cell_type": "code",
   "execution_count": 4,
   "id": "82390730",
   "metadata": {},
   "outputs": [
    {
     "name": "stdout",
     "output_type": "stream",
     "text": [
      "StellarGraph: Undirected multigraph\n",
      " Nodes: 17555, Edges: 17814\n",
      "\n",
      " Node types:\n",
      "  account: [17555]\n",
      "    Features: float32 vector, length 4\n",
      "    Edge types: account-default->account\n",
      "\n",
      " Edge types:\n",
      "    account-default->account: [17814]\n",
      "        Weights: all 1 (default)\n",
      "        Features: none\n"
     ]
    }
   ],
   "source": [
    "G = StellarGraph.from_networkx(G_, node_features=\"attr\")\n",
    "nodes = list(G.nodes())\n",
    "print(G.info())"
   ]
  },
  {
   "cell_type": "markdown",
   "id": "ee71dc30",
   "metadata": {},
   "source": [
    "#### Set hyperparameters:"
   ]
  },
  {
   "cell_type": "code",
   "execution_count": 5,
   "id": "4b73bf4c",
   "metadata": {},
   "outputs": [],
   "source": [
    "number_of_walks = 3\n",
    "length = 5\n",
    "\n",
    "batch_size = 50\n",
    "epochs = 6\n",
    "num_samples = [10, 5]\n",
    "layer_sizes = [50, 50]"
   ]
  },
  {
   "cell_type": "markdown",
   "id": "6785ef1d",
   "metadata": {},
   "source": [
    "#### Prepare data for GraphSAGE model."
   ]
  },
  {
   "cell_type": "code",
   "execution_count": 6,
   "id": "07202737",
   "metadata": {},
   "outputs": [
    {
     "name": "stdout",
     "output_type": "stream",
     "text": [
      "link_classification: using 'ip' method to combine node embeddings into edge embeddings\n"
     ]
    }
   ],
   "source": [
    "unsupervised_samples = UnsupervisedSampler(\n",
    "    G, nodes=nodes, length=length, number_of_walks=number_of_walks\n",
    ")\n",
    "generator = GraphSAGELinkGenerator(G, batch_size, num_samples)\n",
    "train_gen = generator.flow(unsupervised_samples)\n",
    "\n",
    "graphsage = GraphSAGE(\n",
    "    layer_sizes=layer_sizes, generator=generator, bias=True, dropout=0.0, normalize=\"l2\"\n",
    ")\n",
    "x_inp, x_out = graphsage.in_out_tensors()\n",
    "prediction = link_classification(\n",
    "    output_dim=1, output_act=\"sigmoid\", edge_embedding_method=\"ip\"\n",
    ")(x_out)"
   ]
  },
  {
   "cell_type": "markdown",
   "id": "b2a92a01",
   "metadata": {},
   "source": [
    "#### Define the GraphSAGE model itself."
   ]
  },
  {
   "cell_type": "code",
   "execution_count": 7,
   "id": "074d48eb",
   "metadata": {},
   "outputs": [
    {
     "name": "stderr",
     "output_type": "stream",
     "text": [
      "/home/artem/Desktop/made/classenv/lib/python3.8/site-packages/keras/optimizer_v2/optimizer_v2.py:355: UserWarning: The `lr` argument is deprecated, use `learning_rate` instead.\n",
      "  warnings.warn(\n"
     ]
    }
   ],
   "source": [
    "model = keras.Model(inputs=x_inp, outputs=prediction)\n",
    "model.compile(\n",
    "    optimizer=keras.optimizers.Adam(lr=1e-3),\n",
    "    loss=keras.losses.binary_crossentropy,\n",
    "    metrics=[keras.metrics.binary_accuracy],\n",
    ")"
   ]
  },
  {
   "cell_type": "markdown",
   "id": "7b24522f",
   "metadata": {},
   "source": [
    "#### Train the model."
   ]
  },
  {
   "cell_type": "code",
   "execution_count": 8,
   "id": "fe1adf94",
   "metadata": {},
   "outputs": [
    {
     "name": "stderr",
     "output_type": "stream",
     "text": [
      "2022-08-06 00:16:11.235234: I tensorflow/compiler/mlir/mlir_graph_optimization_pass.cc:185] None of the MLIR Optimization Passes are enabled (registered 2)\n"
     ]
    },
    {
     "name": "stdout",
     "output_type": "stream",
     "text": [
      "Epoch 1/6\n",
      "8427/8427 [==============================] - 378s 45ms/step - loss: 0.6465 - binary_accuracy: 0.6436\n",
      "Epoch 2/6\n",
      "8427/8427 [==============================] - 376s 45ms/step - loss: 0.6028 - binary_accuracy: 0.69342s - loss: 0.6028\n",
      "Epoch 3/6\n",
      "8427/8427 [==============================] - 377s 45ms/step - loss: 0.5868 - binary_accuracy: 0.7144\n",
      "Epoch 4/6\n",
      "8427/8427 [==============================] - 375s 44ms/step - loss: 0.5826 - binary_accuracy: 0.72213s - loss\n",
      "Epoch 5/6\n",
      "8427/8427 [==============================] - 375s 44ms/step - loss: 0.5809 - binary_accuracy: 0.7248\n",
      "Epoch 6/6\n",
      "8427/8427 [==============================] - 376s 45ms/step - loss: 0.5797 - binary_accuracy: 0.7256\n"
     ]
    }
   ],
   "source": [
    "history = model.fit(\n",
    "    train_gen,\n",
    "    epochs=epochs,\n",
    "    verbose=1,\n",
    "    use_multiprocessing=False,\n",
    "    workers=4,\n",
    "    shuffle=True,\n",
    ")"
   ]
  },
  {
   "cell_type": "code",
   "execution_count": 9,
   "id": "70b30f8b",
   "metadata": {},
   "outputs": [
    {
     "name": "stdout",
     "output_type": "stream",
     "text": [
      "6/6 [==============================] - 0s 17ms/step\n"
     ]
    }
   ],
   "source": [
    "x_inp_src = x_inp[0::2]\n",
    "x_out_src = x_out[0]\n",
    "embedding_model = keras.Model(inputs=x_inp_src, outputs=x_out_src)\n",
    "node_ids = node_subjects.index\n",
    "node_gen = GraphSAGENodeGenerator(G, batch_size, num_samples).flow(node_ids)\n",
    "\n",
    "node_embeddings = embedding_model.predict(node_gen, workers=4, verbose=1)"
   ]
  },
  {
   "cell_type": "markdown",
   "id": "4450e325",
   "metadata": {},
   "source": [
    "#### Visualize results"
   ]
  },
  {
   "cell_type": "code",
   "execution_count": 10,
   "id": "3d8e3c68",
   "metadata": {},
   "outputs": [],
   "source": [
    "node_subject = node_subjects.astype(\"category\").cat.codes\n",
    "\n",
    "X = node_embeddings\n",
    "if X.shape[1] > 2:\n",
    "    transform = TSNE\n",
    "\n",
    "    trans = transform(n_components=2)\n",
    "    emb_transformed = pd.DataFrame(trans.fit_transform(X), index=node_ids)\n",
    "    emb_transformed[\"label\"] = node_subject\n",
    "else:\n",
    "    emb_transformed = pd.DataFrame(X, index=node_ids)\n",
    "    emb_transformed = emb_transformed.rename(columns={\"0\": 0, \"1\": 1})\n",
    "    emb_transformed[\"label\"] = node_subject"
   ]
  },
  {
   "cell_type": "code",
   "execution_count": 11,
   "id": "bfcd0315",
   "metadata": {},
   "outputs": [
    {
     "data": {
      "image/png": "[encoded data removed]",
      "text/plain": [
       "<Figure size 504x504 with 1 Axes>"
      ]
     },
     "metadata": {
      "needs_background": "light"
     },
     "output_type": "display_data"
    }
   ],
   "source": [
    "alpha = 0.7\n",
    "\n",
    "fig, ax = plt.subplots(figsize=(7, 7))\n",
    "ax.scatter(\n",
    "    emb_transformed[0],\n",
    "    emb_transformed[1],\n",
    "    c=emb_transformed[\"label\"].astype(\"category\"),\n",
    "    cmap=\"jet\",\n",
    "    alpha=alpha,\n",
    ")\n",
    "ax.set(aspect=\"equal\", xlabel=\"$X_1$\", ylabel=\"$X_2$\")\n",
    "plt.title(\n",
    "    \"{} visualization of GraphSAGE embeddings for cora dataset\".format(transform.__name__)\n",
    ")\n",
    "plt.show()"
   ]
  },
  {
   "cell_type": "markdown",
   "id": "f94a57fc",
   "metadata": {},
   "source": [
    "Clusters are not separated very goof in their 2d representation, but we check the performance of classifier on embeddings."
   ]
  },
  {
   "cell_type": "markdown",
   "id": "bb45c0f1",
   "metadata": {},
   "source": [
    "#### Train classifier on embeddings"
   ]
  },
  {
   "cell_type": "code",
   "execution_count": 12,
   "id": "cefe27f4",
   "metadata": {},
   "outputs": [],
   "source": [
    "X = node_embeddings\n",
    "y = np.array(node_subject)\n",
    "X_train, X_val, y_train, y_val = train_test_split(\n",
    "    X, y, train_size=0.05, test_size=None, stratify=y\n",
    ")"
   ]
  },
  {
   "cell_type": "code",
   "execution_count": 13,
   "id": "c22351bc",
   "metadata": {},
   "outputs": [
    {
     "name": "stdout",
     "output_type": "stream",
     "text": [
      "True values:\n",
      "array([0, 1, 1, 1, 1, 1, 1, 1, 1, 1, 0, 1, 1, 0, 1, 1, 0, 1, 1, 1, 1, 1,\n",
      "       1, 1, 1, 1, 1, 0, 1, 0, 1, 1, 1, 1, 1, 1, 1, 1, 1, 0, 1, 1, 1, 0,\n",
      "       1, 0, 1, 1, 1, 1, 1, 1, 1, 1, 0, 1, 1, 1, 1, 0, 1, 1, 1, 1, 1, 1,\n",
      "       1, 1, 1, 1, 1, 1, 1, 1, 1, 1, 0, 1, 1, 1, 0, 0, 1, 0, 0, 1, 1, 1,\n",
      "       1, 1, 1, 1, 1, 0, 1, 1, 1, 1, 1, 1, 1, 1, 1, 1, 0, 1, 1, 1, 1, 0,\n",
      "       1, 1, 1, 1, 1, 1, 0, 1, 1, 1, 0, 1, 1, 1, 1, 0, 0, 1, 1, 1, 1, 0,\n",
      "       1, 1, 1, 1, 1, 0, 1, 0, 1, 1, 1, 1, 1, 1, 1, 1, 1, 0, 0, 1, 1, 0,\n",
      "       1, 1, 1, 1, 0, 1, 1, 1, 0, 0, 0, 0, 1, 1, 1, 0, 0, 1, 0, 1, 0, 0,\n",
      "       1, 1, 0, 1, 1, 0, 0, 1, 1, 1, 1, 1, 1, 0, 1, 1, 1, 1, 1, 0, 1, 1,\n",
      "       1, 1, 1, 1, 0, 1, 1, 1, 1, 1, 0, 1, 1, 1, 0, 0, 1, 1, 1, 1, 0, 1,\n",
      "       0, 1, 1, 1, 0, 0, 1, 1, 1, 1, 1, 1, 1, 1, 1, 1, 1, 0, 1, 1, 1, 0,\n",
      "       1, 1, 0, 1, 1, 1, 0, 0, 1, 0, 0, 1, 1, 0, 0, 0, 1, 1, 1, 0, 0, 1,\n",
      "       1, 1, 1, 1, 1], dtype=int8)\n",
      "Prediction:\n",
      "array([1, 1, 1, 1, 1, 1, 1, 1, 1, 1, 1, 1, 1, 1, 1, 1, 0, 1, 0, 1, 1, 0,\n",
      "       1, 1, 0, 1, 1, 0, 1, 1, 1, 1, 1, 1, 0, 1, 1, 1, 1, 1, 1, 1, 1, 0,\n",
      "       1, 0, 0, 1, 0, 1, 1, 1, 1, 0, 1, 1, 1, 0, 0, 1, 1, 1, 1, 1, 1, 0,\n",
      "       1, 0, 1, 1, 1, 1, 1, 1, 1, 1, 1, 1, 0, 1, 0, 1, 1, 0, 1, 1, 1, 0,\n",
      "       1, 1, 1, 1, 1, 1, 1, 1, 0, 1, 1, 1, 1, 1, 0, 1, 0, 0, 1, 1, 1, 0,\n",
      "       1, 1, 1, 1, 0, 1, 1, 1, 0, 1, 0, 1, 1, 1, 1, 1, 1, 1, 0, 1, 0, 1,\n",
      "       1, 1, 1, 1, 1, 1, 0, 1, 1, 1, 1, 1, 1, 1, 1, 1, 1, 0, 1, 1, 0, 0,\n",
      "       0, 1, 0, 0, 1, 0, 0, 0, 1, 0, 1, 0, 1, 1, 0, 1, 0, 1, 0, 1, 1, 1,\n",
      "       0, 1, 1, 1, 1, 0, 0, 0, 0, 1, 1, 1, 1, 1, 1, 1, 1, 1, 0, 0, 1, 0,\n",
      "       1, 1, 1, 1, 0, 1, 1, 0, 0, 0, 1, 1, 1, 1, 0, 1, 1, 1, 1, 1, 1, 1,\n",
      "       0, 1, 1, 1, 0, 0, 1, 1, 1, 1, 1, 1, 1, 1, 1, 1, 1, 1, 1, 1, 0, 0,\n",
      "       1, 1, 1, 1, 1, 0, 0, 0, 1, 1, 0, 1, 1, 1, 0, 0, 1, 1, 1, 0, 1, 1,\n",
      "       0, 1, 1, 1, 1], dtype=int8)\n",
      "Precision:  0.8048780487804879\n",
      "Recall   :  0.8291457286432161\n",
      "F1       :  0.8168316831683168\n",
      "Accuracy :  0.724907063197026\n",
      "ROCAUC   :  0.6288585786073224\n"
     ]
    }
   ],
   "source": [
    "clf = RandomForestClassifier()\n",
    "clf.fit(X_train, y_train)\n",
    "y_pred = clf.predict(X_val)\n",
    "print(\"True values:\")\n",
    "pp.pprint(y_val)\n",
    "print(\"Prediction:\")\n",
    "pp.pprint(y_pred)\n",
    "prec = precision_score(y_pred, y_val)\n",
    "recall = recall_score(y_pred, y_val)\n",
    "f1 = f1_score(y_pred, y_val)\n",
    "acc = accuracy_score(y_pred, y_val)\n",
    "rocauc = roc_auc_score(y_pred, y_val)\n",
    "print(\"Precision: \", prec)\n",
    "print(\"Recall   : \", recall)\n",
    "print(\"F1       : \", f1)\n",
    "print(\"Accuracy : \", acc)\n",
    "print(\"ROCAUC   : \", rocauc)"
   ]
  },
  {
   "cell_type": "markdown",
   "id": "a4fb0080",
   "metadata": {},
   "source": [
    "All the metrics are quite unimpressive for our particular dataset."
   ]
  },
  {
   "cell_type": "code",
   "execution_count": null,
   "id": "1c32d0db",
   "metadata": {},
   "outputs": [],
   "source": []
  }
 ],
 "metadata": {
  "kernelspec": {
   "display_name": "Python 3 (ipykernel)",
   "language": "python",
   "name": "python3"
  },
  "language_info": {
   "codemirror_mode": {
    "name": "ipython",
    "version": 3
   },
   "file_extension": ".py",
   "mimetype": "text/x-python",
   "name": "python",
   "nbconvert_exporter": "python",
   "pygments_lexer": "ipython3",
   "version": "3.8.10"
  }
 },
 "nbformat": 4,
 "nbformat_minor": 5
}
