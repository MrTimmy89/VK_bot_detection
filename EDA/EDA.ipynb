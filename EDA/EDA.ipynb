{
 "cells": [
  {
   "cell_type": "markdown",
   "id": "fd82d022",
   "metadata": {},
   "source": [
    "## Imports"
   ]
  },
  {
   "cell_type": "code",
   "execution_count": 1,
   "id": "f4e4af8f",
   "metadata": {},
   "outputs": [],
   "source": [
    "import os\n",
    "import random\n",
    "import pandas as pd\n",
    "import numpy as np\n",
    "import json\n",
    "import vk\n",
    "from sklearn.cluster import KMeans\n",
    "from sklearn.preprocessing import Normalizer\n",
    "from sklearn.manifold import TSNE"
   ]
  },
  {
   "cell_type": "code",
   "execution_count": 2,
   "id": "7eca9288",
   "metadata": {},
   "outputs": [
    {
     "data": {
      "image/png": "[encoded data removed]",
      "text/plain": [
       "<Figure size 288x72 with 1 Axes>"
      ]
     },
     "metadata": {},
     "output_type": "display_data"
    }
   ],
   "source": [
    "# Visualisation tools\n",
    "\n",
    "import seaborn as sns\n",
    "import matplotlib.pyplot as plt\n",
    "%matplotlib inline\n",
    "\n",
    "# set font size of labels on matplotlib plots\n",
    "plt.rc('font', size=16)\n",
    "# set style of plots\n",
    "sns.set_style('white')\n",
    "# define a custom palette\n",
    "customPalette = ['#630C3A', '#39C8C6', '#D3500C', '#FFB139']\n",
    "sns.set_palette(customPalette)\n",
    "sns.palplot(customPalette)"
   ]
  },
  {
   "cell_type": "markdown",
   "id": "25544c3b",
   "metadata": {},
   "source": [
    "The number of clusters is set to 2, for us trying to label accounts in terms \"bot/non-bot\"."
   ]
  },
  {
   "cell_type": "code",
   "execution_count": 3,
   "id": "927d6235",
   "metadata": {},
   "outputs": [],
   "source": [
    "N_CLUSTERS = 2\n",
    "DATA_FOLDER = \"data\"\n",
    "RAW_FOLDER = \"raw\"\n",
    "INTERIM_FOLDER = \"interim\""
   ]
  },
  {
   "cell_type": "markdown",
   "id": "6dd31ffb",
   "metadata": {},
   "source": [
    "## Get the data"
   ]
  },
  {
   "cell_type": "code",
   "execution_count": 4,
   "id": "a42e23af",
   "metadata": {},
   "outputs": [
    {
     "data": {
      "text/plain": [
       "['VK_107766587',\n",
       " 'VK_114217055',\n",
       " 'VK_11475787',\n",
       " 'VK_115167994',\n",
       " 'VK_115255023',\n",
       " 'VK_115856486',\n",
       " 'VK_11845346',\n",
       " 'VK_119083272',\n",
       " 'VK_122669009',\n",
       " 'VK_127733082']"
      ]
     },
     "execution_count": 4,
     "metadata": {},
     "output_type": "execute_result"
    }
   ],
   "source": [
    "bots_fp = os.path.join(\"..\", DATA_FOLDER, RAW_FOLDER, \"2021_10_19.csv\")\n",
    "bots_df = pd.read_csv(bots_fp, index_col=\"Unnamed: 0\")\n",
    "bots = bots_df[\"ID\"].to_list()\n",
    "bots[:10]"
   ]
  },
  {
   "cell_type": "code",
   "execution_count": 5,
   "id": "e7d9eee8",
   "metadata": {},
   "outputs": [],
   "source": [
    "# We define train, test and validation datasets\n",
    "\n",
    "val_fp = os.path.join(\"..\", DATA_FOLDER, INTERIM_FOLDER, \"accs_pt1.json\")\n",
    "test_fp = os.path.join(\"..\", DATA_FOLDER, INTERIM_FOLDER, \"accs_pt2.json\")\n",
    "train_fp = os.path.join(\"..\", DATA_FOLDER, INTERIM_FOLDER, \"accs_pt3.json\")\n",
    "\n",
    "with open(train_fp, \"r\") as handler:\n",
    "    train = json.load(handler)\n",
    "    \n",
    "with open(test_fp, \"r\") as handler:\n",
    "    test = json.load(handler)\n",
    "    \n",
    "with open(val_fp, \"r\") as handler:\n",
    "    val = json.load(handler)"
   ]
  },
  {
   "cell_type": "markdown",
   "id": "569b694b",
   "metadata": {},
   "source": [
    "## Preprocess"
   ]
  },
  {
   "cell_type": "markdown",
   "id": "87a45409",
   "metadata": {},
   "source": [
    "We transform the scraped data to datasets, where each row describes an account with a vector of dimensionality 6. The parameteres gathered for this specific approach (visual) were: is the account active (not banned), was the user active in previous 24 hours, does the user have a web-site, number of friends of this user, number of blocked friends, number of gtoups to which the user belongs. We drop for EDA the accounts that were for some reason (maybe, becuase of timeout ban in VK) parsed without collecting information about befriended accounts."
   ]
  },
  {
   "cell_type": "code",
   "execution_count": 6,
   "id": "fd122f70",
   "metadata": {},
   "outputs": [
    {
     "data": {
      "text/plain": [
       "(425, 619, 208)"
      ]
     },
     "execution_count": 6,
     "metadata": {},
     "output_type": "execute_result"
    }
   ],
   "source": [
    "def transform(entity):\n",
    "    size = 0\n",
    "    nodes = []\n",
    "    dataset = []\n",
    "    for k in entity:\n",
    "        if entity[k][3]:\n",
    "            size += 1\n",
    "            nodes.append(k)\n",
    "            dataset.append(entity[k])\n",
    "    return dataset, nodes, size\n",
    "\n",
    "\n",
    "train_dataset, train_nodes, train_size = transform(train)\n",
    "test_dataset, test_nodes, test_size = transform(test)\n",
    "val_dataset, val_nodes, val_size = transform(val)\n",
    "\n",
    "train_size, test_size, val_size"
   ]
  },
  {
   "cell_type": "markdown",
   "id": "55874603",
   "metadata": {},
   "source": [
    "We scale datasets."
   ]
  },
  {
   "cell_type": "code",
   "execution_count": 7,
   "id": "3a55b018",
   "metadata": {},
   "outputs": [],
   "source": [
    "normalizer = Normalizer()\n",
    "\n",
    "train_dataset = np.array(train_dataset)\n",
    "train_dataset = normalizer.fit_transform(train_dataset)\n",
    "    \n",
    "test_dataset = np.array(test_dataset)\n",
    "test_dataset = normalizer.transform(test_dataset)\n",
    "    \n",
    "val_dataset = np.array(val_dataset)\n",
    "val_dataset = normalizer.transform(val_dataset)"
   ]
  },
  {
   "cell_type": "markdown",
   "id": "22893c6e",
   "metadata": {},
   "source": [
    "And now let's have a look at a sample."
   ]
  },
  {
   "cell_type": "code",
   "execution_count": 8,
   "id": "54182292",
   "metadata": {},
   "outputs": [
    {
     "data": {
      "text/plain": [
       "array([0.        , 0.01335115, 0.        , 0.26702293, 0.06675573,\n",
       "       0.96128257])"
      ]
     },
     "execution_count": 8,
     "metadata": {},
     "output_type": "execute_result"
    }
   ],
   "source": [
    "sample = random.randint(0, len(train_dataset))\n",
    "train_dataset[sample]"
   ]
  },
  {
   "cell_type": "markdown",
   "id": "1553ef49",
   "metadata": {},
   "source": [
    "## Train a simple model."
   ]
  },
  {
   "cell_type": "markdown",
   "id": "c5f2eb72",
   "metadata": {},
   "source": [
    "We can estimate, how does the simple clusterization approach deals with the problem."
   ]
  },
  {
   "cell_type": "code",
   "execution_count": 9,
   "id": "3d407ea9",
   "metadata": {},
   "outputs": [],
   "source": [
    "model = KMeans(n_clusters=N_CLUSTERS, random_state=0)\n",
    "train_labels = model.fit(train_dataset[:, 1:]).labels_\n",
    "test_labels = model.predict(test_dataset[:, 1:])\n",
    "val_labels = model.predict(val_dataset[:, 1:])"
   ]
  },
  {
   "cell_type": "markdown",
   "id": "607e2f6f",
   "metadata": {},
   "source": [
    "## Visualization of clusters"
   ]
  },
  {
   "cell_type": "markdown",
   "id": "9ee254b5",
   "metadata": {},
   "source": [
    "We will try to "
   ]
  },
  {
   "cell_type": "code",
   "execution_count": 10,
   "id": "1607a087",
   "metadata": {},
   "outputs": [],
   "source": [
    "n = 2\n",
    "p = 40\n",
    "tsne = TSNE(n_components=n, perplexity=p)"
   ]
  },
  {
   "cell_type": "code",
   "execution_count": 11,
   "id": "d2aa8508",
   "metadata": {},
   "outputs": [],
   "source": [
    "vis = tsne.fit_transform(np.concatenate((train_dataset, test_dataset, val_dataset)))\n",
    "vis_labels = np.concatenate((train_labels, test_labels + 2, val_labels + 4))"
   ]
  },
  {
   "cell_type": "code",
   "execution_count": 12,
   "id": "cbba7f80",
   "metadata": {},
   "outputs": [
    {
     "data": {
      "text/html": [
       "<div>\n",
       "<style scoped>\n",
       "    .dataframe tbody tr th:only-of-type {\n",
       "        vertical-align: middle;\n",
       "    }\n",
       "\n",
       "    .dataframe tbody tr th {\n",
       "        vertical-align: top;\n",
       "    }\n",
       "\n",
       "    .dataframe thead th {\n",
       "        text-align: right;\n",
       "    }\n",
       "</style>\n",
       "<table border=\"1\" class=\"dataframe\">\n",
       "  <thead>\n",
       "    <tr style=\"text-align: right;\">\n",
       "      <th></th>\n",
       "      <th>x</th>\n",
       "      <th>y</th>\n",
       "      <th>label</th>\n",
       "      <th>label_</th>\n",
       "    </tr>\n",
       "  </thead>\n",
       "  <tbody>\n",
       "    <tr>\n",
       "      <th>42</th>\n",
       "      <td>16.214115</td>\n",
       "      <td>5.314447</td>\n",
       "      <td>0</td>\n",
       "      <td>non-bot</td>\n",
       "    </tr>\n",
       "    <tr>\n",
       "      <th>535</th>\n",
       "      <td>-23.716858</td>\n",
       "      <td>8.901734</td>\n",
       "      <td>2</td>\n",
       "      <td>non-bot</td>\n",
       "    </tr>\n",
       "    <tr>\n",
       "      <th>431</th>\n",
       "      <td>-17.929930</td>\n",
       "      <td>-29.204266</td>\n",
       "      <td>2</td>\n",
       "      <td>non-bot</td>\n",
       "    </tr>\n",
       "    <tr>\n",
       "      <th>802</th>\n",
       "      <td>-26.590998</td>\n",
       "      <td>-19.975998</td>\n",
       "      <td>2</td>\n",
       "      <td>non-bot</td>\n",
       "    </tr>\n",
       "    <tr>\n",
       "      <th>745</th>\n",
       "      <td>5.803422</td>\n",
       "      <td>-34.601784</td>\n",
       "      <td>2</td>\n",
       "      <td>non-bot</td>\n",
       "    </tr>\n",
       "  </tbody>\n",
       "</table>\n",
       "</div>"
      ],
      "text/plain": [
       "             x          y  label   label_\n",
       "42   16.214115   5.314447      0  non-bot\n",
       "535 -23.716858   8.901734      2  non-bot\n",
       "431 -17.929930 -29.204266      2  non-bot\n",
       "802 -26.590998 -19.975998      2  non-bot\n",
       "745   5.803422 -34.601784      2  non-bot"
      ]
     },
     "execution_count": 12,
     "metadata": {},
     "output_type": "execute_result"
    }
   ],
   "source": [
    "vis_df = pd.DataFrame({\n",
    "    \"x\": vis[:, 0],\n",
    "    \"y\": vis[:, 1],\n",
    "    \"label\": vis_labels,\n",
    "    \"label_\": np.where((vis_labels % 2) == 1, \"bot\", \"non-bot\")\n",
    "})\n",
    "vis_df.sample(5)"
   ]
  },
  {
   "cell_type": "code",
   "execution_count": 13,
   "id": "8735f87b",
   "metadata": {},
   "outputs": [
    {
     "data": {
      "text/html": [
       "<div>\n",
       "<style scoped>\n",
       "    .dataframe tbody tr th:only-of-type {\n",
       "        vertical-align: middle;\n",
       "    }\n",
       "\n",
       "    .dataframe tbody tr th {\n",
       "        vertical-align: top;\n",
       "    }\n",
       "\n",
       "    .dataframe thead th {\n",
       "        text-align: right;\n",
       "    }\n",
       "</style>\n",
       "<table border=\"1\" class=\"dataframe\">\n",
       "  <thead>\n",
       "    <tr style=\"text-align: right;\">\n",
       "      <th></th>\n",
       "      <th>label</th>\n",
       "    </tr>\n",
       "  </thead>\n",
       "  <tbody>\n",
       "    <tr>\n",
       "      <th>2</th>\n",
       "      <td>619</td>\n",
       "    </tr>\n",
       "    <tr>\n",
       "      <th>0</th>\n",
       "      <td>365</td>\n",
       "    </tr>\n",
       "    <tr>\n",
       "      <th>4</th>\n",
       "      <td>141</td>\n",
       "    </tr>\n",
       "    <tr>\n",
       "      <th>5</th>\n",
       "      <td>67</td>\n",
       "    </tr>\n",
       "    <tr>\n",
       "      <th>1</th>\n",
       "      <td>60</td>\n",
       "    </tr>\n",
       "  </tbody>\n",
       "</table>\n",
       "</div>"
      ],
      "text/plain": [
       "   label\n",
       "2    619\n",
       "0    365\n",
       "4    141\n",
       "5     67\n",
       "1     60"
      ]
     },
     "execution_count": 13,
     "metadata": {},
     "output_type": "execute_result"
    }
   ],
   "source": [
    "pd.DataFrame(vis_df[\"label\"].value_counts())"
   ]
  },
  {
   "cell_type": "code",
   "execution_count": 14,
   "id": "fc1f02a6",
   "metadata": {},
   "outputs": [
    {
     "name": "stderr",
     "output_type": "stream",
     "text": [
      "/home/artem/Desktop/made/classenv/lib/python3.8/site-packages/seaborn/regression.py:592: UserWarning: legend_out is deprecated from the `lmplot` function signature. Please update your code to pass it using `facet_kws`.\n",
      "  warnings.warn(msg, UserWarning)\n"
     ]
    },
    {
     "data": {
      "image/png": "[encoded data removed]",
      "text/plain": [
       "<Figure size 426.475x360 with 1 Axes>"
      ]
     },
     "metadata": {},
     "output_type": "display_data"
    }
   ],
   "source": [
    "facet = sns.lmplot(data=vis_df, x='x', y='y', hue='label', \n",
    "                   fit_reg=False, legend=True, legend_out=True)"
   ]
  },
  {
   "cell_type": "code",
   "execution_count": 15,
   "id": "7e910999",
   "metadata": {},
   "outputs": [
    {
     "data": {
      "text/html": [
       "<div>\n",
       "<style scoped>\n",
       "    .dataframe tbody tr th:only-of-type {\n",
       "        vertical-align: middle;\n",
       "    }\n",
       "\n",
       "    .dataframe tbody tr th {\n",
       "        vertical-align: top;\n",
       "    }\n",
       "\n",
       "    .dataframe thead th {\n",
       "        text-align: right;\n",
       "    }\n",
       "</style>\n",
       "<table border=\"1\" class=\"dataframe\">\n",
       "  <thead>\n",
       "    <tr style=\"text-align: right;\">\n",
       "      <th></th>\n",
       "      <th>label_</th>\n",
       "    </tr>\n",
       "  </thead>\n",
       "  <tbody>\n",
       "    <tr>\n",
       "      <th>non-bot</th>\n",
       "      <td>1125</td>\n",
       "    </tr>\n",
       "    <tr>\n",
       "      <th>bot</th>\n",
       "      <td>127</td>\n",
       "    </tr>\n",
       "  </tbody>\n",
       "</table>\n",
       "</div>"
      ],
      "text/plain": [
       "         label_\n",
       "non-bot    1125\n",
       "bot         127"
      ]
     },
     "execution_count": 15,
     "metadata": {},
     "output_type": "execute_result"
    }
   ],
   "source": [
    "pd.DataFrame(vis_df[\"label_\"].value_counts())"
   ]
  },
  {
   "cell_type": "code",
   "execution_count": 16,
   "id": "00e0fde3",
   "metadata": {
    "scrolled": false
   },
   "outputs": [
    {
     "name": "stderr",
     "output_type": "stream",
     "text": [
      "/home/artem/Desktop/made/classenv/lib/python3.8/site-packages/seaborn/regression.py:592: UserWarning: legend_out is deprecated from the `lmplot` function signature. Please update your code to pass it using `facet_kws`.\n",
      "  warnings.warn(msg, UserWarning)\n"
     ]
    },
    {
     "data": {
      "image/png": "[encoded data removed]",
      "text/plain": [
       "<Figure size 471.85x360 with 1 Axes>"
      ]
     },
     "metadata": {},
     "output_type": "display_data"
    }
   ],
   "source": [
    "facet = sns.lmplot(data=vis_df, x='x', y='y', hue='label_', \n",
    "                   fit_reg=False, legend=True, legend_out=True)"
   ]
  },
  {
   "cell_type": "markdown",
   "id": "1f4902d0",
   "metadata": {},
   "source": [
    "## Results interpretation"
   ]
  },
  {
   "cell_type": "code",
   "execution_count": 17,
   "id": "c2769f4d",
   "metadata": {},
   "outputs": [
    {
     "name": "stdout",
     "output_type": "stream",
     "text": [
      "0 label:  1 items: ['127733082']\n",
      "1 label:  0 items: []\n",
      "2 label:  0 items: []\n",
      "4 label:  0 items: []\n",
      "5 label:  1 items: ['115255023']\n"
     ]
    }
   ],
   "source": [
    "all_nodes = np.concatenate((train_nodes, test_nodes, val_nodes))\n",
    "for label in vis_df[\"label\"].unique():\n",
    "    k = 0\n",
    "    found_nodes = []\n",
    "    for i, idx in enumerate(list(vis_df[vis_df[\"label\"] == label].index)):\n",
    "        # print(all_nodes[idx], k)\n",
    "        if f\"VK_{all_nodes[idx]}\" in bots:\n",
    "            k += 1\n",
    "            found_nodes.append(all_nodes[idx])\n",
    "    print(label, \"label: \",  k, \"items:\", found_nodes)"
   ]
  },
  {
   "cell_type": "markdown",
   "id": "dac7f2a3",
   "metadata": {},
   "source": [
    "Unfortunately, very few accounts, that were taken in this particular approach, belonged to the dataset of bots. So, although, 2 clusters were built, and sampling accounts from both groups and manually following them proved us that the approach is generally correct, it could only be taken for as an approve, that it is possible to detect automatically managed accounts algorithmically (what we will do further)."
   ]
  },
  {
   "cell_type": "code",
   "execution_count": null,
   "id": "115da8d3",
   "metadata": {},
   "outputs": [],
   "source": []
  }
 ],
 "metadata": {
  "kernelspec": {
   "display_name": "Python 3 (ipykernel)",
   "language": "python",
   "name": "python3"
  },
  "language_info": {
   "codemirror_mode": {
    "name": "ipython",
    "version": 3
   },
   "file_extension": ".py",
   "mimetype": "text/x-python",
   "name": "python",
   "nbconvert_exporter": "python",
   "pygments_lexer": "ipython3",
   "version": "3.8.10"
  }
 },
 "nbformat": 4,
 "nbformat_minor": 5
}
